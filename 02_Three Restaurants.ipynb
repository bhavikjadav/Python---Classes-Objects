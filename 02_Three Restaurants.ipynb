{
 "cells": [
  {
   "cell_type": "markdown",
   "metadata": {},
   "source": [
    "# 9-2. Three Restaurants: Start with your class from Exercise 1. Create three different instances from the class, and call describe_restaurant() for each instance."
   ]
  },
  {
   "cell_type": "code",
   "execution_count": 1,
   "metadata": {},
   "outputs": [],
   "source": [
    "class Restaurant:\n",
    "    \"\"\"Defining the class Restaurant.\"\"\"\n",
    "    \n",
    "    def __init__(self, restaurant_name, cuisine_type):\n",
    "        self.r_name = restaurant_name\n",
    "        self.c_type = cuisine_type\n",
    "    \n",
    "    def describe_restaurant(self):\n",
    "        print(\"Restaurant Name : \", self.r_name.title())\n",
    "        print(\"Cuisine Type : \", self.c_type.title())\n",
    "    \n",
    "    def open_restaurant(self):\n",
    "        print(self.r_name.title(), \" is now OPEN.\")"
   ]
  },
  {
   "cell_type": "code",
   "execution_count": 2,
   "metadata": {},
   "outputs": [
    {
     "name": "stdout",
     "output_type": "stream",
     "text": [
      "Restaurant Name :  Pizzano\n",
      "Cuisine Type :  Italian\n",
      "Pizzano  is now OPEN.\n"
     ]
    }
   ],
   "source": [
    "restaurant1 = Restaurant(\"pizzano\", \"italian\")\n",
    "restaurant1.describe_restaurant()\n",
    "restaurant1.open_restaurant()"
   ]
  },
  {
   "cell_type": "code",
   "execution_count": 3,
   "metadata": {},
   "outputs": [
    {
     "name": "stdout",
     "output_type": "stream",
     "text": [
      "Restaurant Name :  Dosawala\n",
      "Cuisine Type :  South Indian\n",
      "Dosawala  is now OPEN.\n"
     ]
    }
   ],
   "source": [
    "restaurant2 = Restaurant(\"dosawala\", \"south indian\")\n",
    "restaurant2.describe_restaurant()\n",
    "restaurant2.open_restaurant()"
   ]
  },
  {
   "cell_type": "code",
   "execution_count": 5,
   "metadata": {},
   "outputs": [
    {
     "name": "stdout",
     "output_type": "stream",
     "text": [
      "Restaurant Name :  Punjab Di Hatti\n",
      "Cuisine Type :  Punjabi\n",
      "Punjab Di Hatti  is now OPEN.\n"
     ]
    }
   ],
   "source": [
    "restaurant3 = Restaurant(\"punjab di hatti\", \"punjabi\")\n",
    "restaurant3.describe_restaurant()\n",
    "restaurant3.open_restaurant()"
   ]
  }
 ],
 "metadata": {
  "kernelspec": {
   "display_name": "Python 3",
   "language": "python",
   "name": "python3"
  },
  "language_info": {
   "codemirror_mode": {
    "name": "ipython",
    "version": 3
   },
   "file_extension": ".py",
   "mimetype": "text/x-python",
   "name": "python",
   "nbconvert_exporter": "python",
   "pygments_lexer": "ipython3",
   "version": "3.8.5"
  }
 },
 "nbformat": 4,
 "nbformat_minor": 4
}
