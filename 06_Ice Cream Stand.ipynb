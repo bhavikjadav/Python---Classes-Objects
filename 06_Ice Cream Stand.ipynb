{
 "cells": [
  {
   "cell_type": "markdown",
   "metadata": {},
   "source": [
    "# 6. Ice Cream Stand: An ice cream stand is a specific kind of restaurant. Write a class called IceCreamStand that inherits from the Restaurant class you wrote in Exercise 4. Either version of the class will work; just pick the one you like better. Add an attribute called flavors that stores a list of ice cream flavors. Write a method that displays these flavors. Create an instance of IceCreamStand, and call this method."
   ]
  },
  {
   "cell_type": "code",
   "execution_count": 29,
   "metadata": {},
   "outputs": [],
   "source": [
    "class Restaurant:\n",
    "    \"\"\"Defining the class Restaurant.\"\"\"\n",
    "    \n",
    "    def __init__(self, restaurant_name, cuisine_type):\n",
    "        self.r_name = restaurant_name\n",
    "        self.c_type = cuisine_type\n",
    "        self.number_served = 0\n",
    "    \n",
    "    def describe_restaurant(self):\n",
    "        print(\"Restaurant Name : \", self.r_name.title())\n",
    "        print(\"Cuisine Type : \", self.c_type.title())\n",
    "    \n",
    "    def open_restaurant(self):\n",
    "        print(self.r_name.title(), \" is now OPEN.\")\n",
    "    \n",
    "    def set_number_served(self):\n",
    "        self.number_served = 10\n",
    "        print(f\"{self.r_name.title()} have served {self.number_served} loyal customers.\")\n",
    "        \n",
    "    def increment_number_served(self, i_number):\n",
    "        self.number_served = self.number_served + i_number\n",
    "        print(f\"{self.r_name.title()} now have {self.number_served} loyal customers. Cheers.\")\n",
    "\n",
    "class IceCreamStand(Restaurant):\n",
    "    \"\"\"Inherited class from Restaurant class.\"\"\"\n",
    "    \n",
    "    def __init__(self, restaurant_name):\n",
    "        self.restaurant_name = restaurant_name\n",
    "        self.flavors = [\"pineapple\", \"kiwi\", \"apple\", \"guava\", \"strawberry\", \"mango\"]\n",
    "        \n",
    "    def printing_flavors(self):\n",
    "        print(f\"The {self.restaurant_name} have Ice-Creams with following flavors : \")\n",
    "        for flavor in self.flavors:\n",
    "            print(f\". {flavor.title()}\")"
   ]
  },
  {
   "cell_type": "code",
   "execution_count": 30,
   "metadata": {},
   "outputs": [
    {
     "name": "stdout",
     "output_type": "stream",
     "text": [
      "The ice-creamwala have Ice-Creams with following flavors : \n",
      ". Pineapple\n",
      ". Kiwi\n",
      ". Apple\n",
      ". Guava\n",
      ". Strawberry\n",
      ". Mango\n"
     ]
    }
   ],
   "source": [
    "stand1 = IceCreamStand(\"ice-creamwala\")\n",
    "stand1.printing_flavors()"
   ]
  }
 ],
 "metadata": {
  "kernelspec": {
   "display_name": "Python 3",
   "language": "python",
   "name": "python3"
  },
  "language_info": {
   "codemirror_mode": {
    "name": "ipython",
    "version": 3
   },
   "file_extension": ".py",
   "mimetype": "text/x-python",
   "name": "python",
   "nbconvert_exporter": "python",
   "pygments_lexer": "ipython3",
   "version": "3.8.5"
  }
 },
 "nbformat": 4,
 "nbformat_minor": 4
}
