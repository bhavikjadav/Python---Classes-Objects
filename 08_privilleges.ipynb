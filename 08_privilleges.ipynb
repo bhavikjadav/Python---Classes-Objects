{
 "cells": [
  {
   "cell_type": "markdown",
   "metadata": {},
   "source": [
    "# 8. Privileges: Write a separate Privileges class. The class should have one attribute, privileges, that stores a list of strings as described in Exercise 7. Move the show_privileges() method to this class. Make a Privileges instance as an attribute in the Admin class. Create a new instance of Admin and use your method to show its privileges."
   ]
  },
  {
   "cell_type": "code",
   "execution_count": 1,
   "metadata": {},
   "outputs": [],
   "source": [
    "class User:\n",
    "    \"\"\"User class which containes profile of user.\"\"\"\n",
    "    \n",
    "    def __init__(self, fname, lname, city, mail, contact):\n",
    "        self.f_name = fname\n",
    "        self.l_name = lname\n",
    "        self.city = city\n",
    "        self.email = mail\n",
    "        self.contact = contact\n",
    "        self.login_attempts = 0\n",
    "    \n",
    "    def describe_user(self):\n",
    "        print(f\"First Name : {self.f_name.title()}.\")\n",
    "        print(f\"Last Name : {self.l_name.title()}.\")\n",
    "        print(f\"City : {self.city.title()}.\")\n",
    "        print(f\"Email : {self.email.lower()}.\")\n",
    "        print(f\"Contact : {int(self.contact)}.\")\n",
    "    \n",
    "    def greet_user(self):\n",
    "        print(f\"Hola, Namaste, {self.f_name.title()}. I am glad to see you here.\")\n",
    "        \n",
    "    def increment_login_attempts(self):\n",
    "        self.login_attempts = self.login_attempts + 1\n",
    "        \n",
    "    def reset_login_attempts(self):\n",
    "        self.login_attempts = 0\n",
    "        \n",
    "    def print_login_attempts(self):\n",
    "        print(f\"Total login Attempts : {self.login_attempts}\")\n",
    "        \n",
    "class Admin(User):\n",
    "    \n",
    "    def __init__(self, fname, lname, city, mail, contact):\n",
    "        super().__init__(fname, lname, city, mail, contact)\n",
    "\n",
    "class Privilleges(Admin):\n",
    "    \n",
    "    def __init__(self):\n",
    "         self.previlleges = [\"can add post\", \"can delete post\", \"can block user\", \"can make admins\"]\n",
    "            \n",
    "    def show_previlleges(self):\n",
    "        print(f\"Admin have following authorities: \\n\")\n",
    "        for previllege in self.previlleges:\n",
    "            print(f\"Admin {previllege}.\")"
   ]
  },
  {
   "cell_type": "code",
   "execution_count": 2,
   "metadata": {},
   "outputs": [
    {
     "name": "stdout",
     "output_type": "stream",
     "text": [
      "Admin have following authorities: \n",
      "\n",
      "Admin can add post.\n",
      "Admin can delete post.\n",
      "Admin can block user.\n",
      "Admin can make admins.\n"
     ]
    }
   ],
   "source": [
    "privillege1 = Privilleges()\n",
    "privillege1.show_previlleges()"
   ]
  }
 ],
 "metadata": {
  "kernelspec": {
   "display_name": "Python 3",
   "language": "python",
   "name": "python3"
  },
  "language_info": {
   "codemirror_mode": {
    "name": "ipython",
    "version": 3
   },
   "file_extension": ".py",
   "mimetype": "text/x-python",
   "name": "python",
   "nbconvert_exporter": "python",
   "pygments_lexer": "ipython3",
   "version": "3.8.5"
  }
 },
 "nbformat": 4,
 "nbformat_minor": 4
}
