{
 "cells": [
  {
   "cell_type": "markdown",
   "metadata": {},
   "source": [
    "# Restaurant: Make a class called Restaurant. \n",
    "# The __init__() method for Restaurant should store two attributes: a restaurant_name and a cuisine_type. \n",
    "# Make a method called describe_restaurant() that prints these two pieces of information, and a method called open_restaurant() that prints a message indicating that the restaurant is open. \n",
    "# Make an instance called restaurant from y"
   ]
  },
  {
   "cell_type": "code",
   "execution_count": 6,
   "metadata": {},
   "outputs": [],
   "source": [
    "class Restaurant:\n",
    "    \"\"\"Defining the class Restaurant.\"\"\"\n",
    "    \n",
    "    def __init__(self, restaurant_name, cuisine_type):\n",
    "        self.r_name = restaurant_name\n",
    "        self.c_type = cuisine_type\n",
    "    \n",
    "    def describe_restaurant(self):\n",
    "        print(\"Restaurant Name : \", self.r_name.title())\n",
    "        print(\"Cuisine Type : \", self.c_type.title())\n",
    "    \n",
    "    def open_restaurant(self):\n",
    "        print(self.r_name.title(), \" is now OPEN.\")\n",
    "    "
   ]
  },
  {
   "cell_type": "code",
   "execution_count": 7,
   "metadata": {},
   "outputs": [
    {
     "name": "stdout",
     "output_type": "stream",
     "text": [
      "Restaurant Name :  Royal Dine\n",
      "Cuisine Type :  Gujarati\n",
      "Royal Dine  is now OPEN.\n"
     ]
    }
   ],
   "source": [
    "restaurant1 = Restaurant(\"royal dine\", \"gujarati\")\n",
    "restaurant1.describe_restaurant()\n",
    "restaurant1.open_restaurant()"
   ]
  }
 ],
 "metadata": {
  "kernelspec": {
   "display_name": "Python 3",
   "language": "python",
   "name": "python3"
  },
  "language_info": {
   "codemirror_mode": {
    "name": "ipython",
    "version": 3
   },
   "file_extension": ".py",
   "mimetype": "text/x-python",
   "name": "python",
   "nbconvert_exporter": "python",
   "pygments_lexer": "ipython3",
   "version": "3.8.5"
  }
 },
 "nbformat": 4,
 "nbformat_minor": 4
}
