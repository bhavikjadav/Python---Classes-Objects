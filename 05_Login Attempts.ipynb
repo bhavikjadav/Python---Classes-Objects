{
 "cells": [
  {
   "cell_type": "markdown",
   "metadata": {},
   "source": [
    "# 5. Login Attempts: Add an attribute called login_attempts to your User class from Exercise 3. Write a method called increment_login _attempts() that increments the value of login_attempts by 1. \n",
    "# Write another method called reset_login_attempts() that resets the value of login_attempts to 0.\n",
    "# (a) Make an instance of the User class and call increment_login_attempts() several times. Print the value of login_attempts to make sure it was incremented properly, and then call reset_login_attempts(). Print login_attempts again to make sure it was reset to 0."
   ]
  },
  {
   "cell_type": "code",
   "execution_count": 18,
   "metadata": {},
   "outputs": [],
   "source": [
    "class User:\n",
    "    \"\"\"User class which containes profile of user.\"\"\"\n",
    "    \n",
    "    def __init__(self, fname, lname, city, mail, contact):\n",
    "        self.f_name = fname\n",
    "        self.l_name = lname\n",
    "        self.city = city\n",
    "        self.email = mail\n",
    "        self.contact = contact\n",
    "        self.login_attempts = 0\n",
    "    \n",
    "    def describe_user(self):\n",
    "        print(f\"First Name : {self.f_name.title()}.\")\n",
    "        print(f\"Last Name : {self.l_name.title()}.\")\n",
    "        print(f\"City : {self.city.title()}.\")\n",
    "        print(f\"Email : {self.email.lower()}.\")\n",
    "        print(f\"Contact : {int(self.contact)}.\")\n",
    "    \n",
    "    def greet_user(self):\n",
    "        print(f\"Hola, Namaste, {self.f_name.title()}. I am glad to see you here.\")\n",
    "        \n",
    "    def increment_login_attempts(self):\n",
    "        self.login_attempts = self.login_attempts + 1\n",
    "        \n",
    "    def reset_login_attempts(self):\n",
    "        self.login_attempts = 0\n",
    "        \n",
    "    def print_login_attempts(self):\n",
    "        print(f\"Total login Attempts : {self.login_attempts}\")"
   ]
  },
  {
   "cell_type": "code",
   "execution_count": 19,
   "metadata": {},
   "outputs": [
    {
     "name": "stdout",
     "output_type": "stream",
     "text": [
      "Total login Attempts : 5\n"
     ]
    }
   ],
   "source": [
    "# Answer\n",
    "user1 = User(\"mark\", \"phieno\", \"new jersy\", \"mark@dummy.com\", 12345678910)\n",
    "user1.increment_login_attempts()\n",
    "user1.increment_login_attempts()\n",
    "user1.increment_login_attempts()\n",
    "user1.increment_login_attempts()\n",
    "user1.increment_login_attempts()\n",
    "user1.print_login_attempts()"
   ]
  },
  {
   "cell_type": "code",
   "execution_count": 20,
   "metadata": {},
   "outputs": [
    {
     "name": "stdout",
     "output_type": "stream",
     "text": [
      "Total login Attempts : 0\n"
     ]
    }
   ],
   "source": [
    "user1.reset_login_attempts()\n",
    "user1.print_login_attempts()"
   ]
  }
 ],
 "metadata": {
  "kernelspec": {
   "display_name": "Python 3",
   "language": "python",
   "name": "python3"
  },
  "language_info": {
   "codemirror_mode": {
    "name": "ipython",
    "version": 3
   },
   "file_extension": ".py",
   "mimetype": "text/x-python",
   "name": "python",
   "nbconvert_exporter": "python",
   "pygments_lexer": "ipython3",
   "version": "3.8.5"
  }
 },
 "nbformat": 4,
 "nbformat_minor": 4
}
