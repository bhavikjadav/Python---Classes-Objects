{
 "cells": [
  {
   "cell_type": "markdown",
   "metadata": {},
   "source": [
    "# 4. Number Served: Start with your program from Exercise 1.\n",
    "# (a) Add an attribute called number_served with a default value of 0. Create an instance called restaurant from this class. Print the number of customers the restaurant has served, and then change this value and print it again.\n",
    "# (b) Add a method called set_number_served() that lets you set the number of customers that have been served. Call this method with a new number and print the value again.\n",
    "# (c) Add a method called increment_number_served() that lets you increment the number of customers who’ve been served. Call this method with any number you like that could represent how many customers were served in, say, a day of business."
   ]
  },
  {
   "cell_type": "code",
   "execution_count": 23,
   "metadata": {},
   "outputs": [],
   "source": [
    "class Restaurant:\n",
    "    \"\"\"Defining the class Restaurant.\"\"\"\n",
    "    \n",
    "    def __init__(self, restaurant_name, cuisine_type):\n",
    "        self.r_name = restaurant_name\n",
    "        self.c_type = cuisine_type\n",
    "        self.number_served = 0\n",
    "    \n",
    "    def describe_restaurant(self):\n",
    "        print(\"Restaurant Name : \", self.r_name.title())\n",
    "        print(\"Cuisine Type : \", self.c_type.title())\n",
    "    \n",
    "    def open_restaurant(self):\n",
    "        print(self.r_name.title(), \" is now OPEN.\")\n",
    "    \n",
    "    def set_number_served(self):\n",
    "        self.number_served = 10\n",
    "        print(f\"{self.r_name.title()} have served {self.number_served} loyal customers.\")\n",
    "        \n",
    "    def increment_number_served(self, i_number):\n",
    "        self.number_served = self.number_served + i_number\n",
    "        print(f\"{self.r_name.title()} now have {self.number_served} loyal customers. Cheers.\")\n",
    "    "
   ]
  },
  {
   "cell_type": "code",
   "execution_count": 24,
   "metadata": {},
   "outputs": [
    {
     "data": {
      "text/plain": [
       "0"
      ]
     },
     "execution_count": 24,
     "metadata": {},
     "output_type": "execute_result"
    }
   ],
   "source": [
    "# Answer (a)\n",
    "restaurant1 = Restaurant(\"royal dine\", \"punjabi\")\n",
    "restaurant1.number_served"
   ]
  },
  {
   "cell_type": "code",
   "execution_count": 25,
   "metadata": {},
   "outputs": [
    {
     "name": "stdout",
     "output_type": "stream",
     "text": [
      "Royal Dine have served 10 loyal customers.\n"
     ]
    }
   ],
   "source": [
    "# Answer (b)\n",
    "restaurant1.set_number_served()"
   ]
  },
  {
   "cell_type": "code",
   "execution_count": 26,
   "metadata": {},
   "outputs": [
    {
     "name": "stdout",
     "output_type": "stream",
     "text": [
      "Royal Dine now have 20 loyal customers. Cheers.\n"
     ]
    }
   ],
   "source": [
    "# Answer (c)\n",
    "restaurant1.increment_number_served(10)"
   ]
  }
 ],
 "metadata": {
  "kernelspec": {
   "display_name": "Python 3",
   "language": "python",
   "name": "python3"
  },
  "language_info": {
   "codemirror_mode": {
    "name": "ipython",
    "version": 3
   },
   "file_extension": ".py",
   "mimetype": "text/x-python",
   "name": "python",
   "nbconvert_exporter": "python",
   "pygments_lexer": "ipython3",
   "version": "3.8.5"
  }
 },
 "nbformat": 4,
 "nbformat_minor": 4
}
