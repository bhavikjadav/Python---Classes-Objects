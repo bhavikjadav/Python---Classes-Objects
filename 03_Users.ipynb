{
 "cells": [
  {
   "cell_type": "markdown",
   "metadata": {},
   "source": [
    "# 3. Users: Make a class called User. Create two attributes called first_name and last_name, and then create several other attributes that are typically stored in a user profile. Make a method called describe_user() that prints a summary of the user’s information. Make another method called greet_user() that prints a personalized greeting to the user.\n",
    "# Create several instances representing different users, and call both methods for each user."
   ]
  },
  {
   "cell_type": "code",
   "execution_count": 24,
   "metadata": {},
   "outputs": [],
   "source": [
    "class User:\n",
    "    \"\"\"User class which containes profile of user.\"\"\"\n",
    "    \n",
    "    def __init__(self, fname, lname, city, mail, contact):\n",
    "        self.f_name = fname\n",
    "        self.l_name = lname\n",
    "        self.city = city\n",
    "        self.email = mail\n",
    "        self.contact = contact\n",
    "    \n",
    "    def describe_user(self):\n",
    "        print(f\"First Name : {self.f_name.title()}.\")\n",
    "        print(f\"Last Name : {self.l_name.title()}.\")\n",
    "        print(f\"City : {self.city.title()}.\")\n",
    "        print(f\"Email : {self.email.lower()}.\")\n",
    "        print(f\"Contact : {int(self.contact)}.\")\n",
    "    \n",
    "    def greet_user(self):\n",
    "        print(f\"Hola, Namaste, {self.f_name.title()}. I am glad to see you here.\")"
   ]
  },
  {
   "cell_type": "code",
   "execution_count": 25,
   "metadata": {},
   "outputs": [
    {
     "name": "stdout",
     "output_type": "stream",
     "text": [
      "First Name : Erica.\n",
      "Last Name : Alright.\n",
      "City : New Jersy.\n",
      "Email : erica@dummy.com.\n",
      "Contact : 1234512356.\n",
      "Hola, Namaste, Erica. I am glad to see you here.\n"
     ]
    }
   ],
   "source": [
    "user1 = User(\"erica\", \"alright\", \"new jersy\", \"erica@dummy.com\", 1234512356)\n",
    "user1.describe_user()\n",
    "user1.greet_user()"
   ]
  }
 ],
 "metadata": {
  "kernelspec": {
   "display_name": "Python 3",
   "language": "python",
   "name": "python3"
  },
  "language_info": {
   "codemirror_mode": {
    "name": "ipython",
    "version": 3
   },
   "file_extension": ".py",
   "mimetype": "text/x-python",
   "name": "python",
   "nbconvert_exporter": "python",
   "pygments_lexer": "ipython3",
   "version": "3.8.5"
  }
 },
 "nbformat": 4,
 "nbformat_minor": 4
}
